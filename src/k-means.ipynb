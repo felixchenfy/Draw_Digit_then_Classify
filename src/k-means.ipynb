{
 "cells": [
  {
   "cell_type": "markdown",
   "metadata": {},
   "source": [
    "The workflow is:  \n",
    "k-means extracts patch centers + ZCA(PCA) + fc layer + multi-class perceptron"
   ]
  },
  {
   "cell_type": "code",
   "execution_count": 1,
   "metadata": {},
   "outputs": [],
   "source": [
    "import autograd.numpy as np\n",
    "import matplotlib.pyplot as plt\n",
    "\n",
    "from autograd import grad\n",
    "from autograd import value_and_grad \n",
    "from autograd.misc.flatten import flatten_func\n",
    "\n",
    "from sklearn.cluster import MiniBatchKMeans\n",
    "from sklearn.datasets import fetch_mldata\n",
    "\n",
    "%matplotlib notebook"
   ]
  },
  {
   "cell_type": "code",
   "execution_count": 2,
   "metadata": {},
   "outputs": [],
   "source": [
    "# load in data\n",
    "mnist = fetch_mldata('MNIST original')\n",
    "\n",
    "x = mnist.data.T # x.shape = (784, 70000)\n",
    "x = 255 - x # digits are in black color\n",
    "y = mnist.target[np.newaxis,:] # y.shape = (1, 70000)\n",
    "image_length=28"
   ]
  },
  {
   "cell_type": "code",
   "execution_count": 3,
   "metadata": {},
   "outputs": [
    {
     "name": "stdout",
     "output_type": "stream",
     "text": [
      "input shape =  (784, 70000)\n",
      "output shape =  (1, 70000)\n"
     ]
    }
   ],
   "source": [
    "print(\"input shape = \" , x.shape)\n",
    "print(\"output shape = \", y.shape)"
   ]
  },
  {
   "cell_type": "code",
   "execution_count": 4,
   "metadata": {
    "scrolled": false
   },
   "outputs": [
    {
     "data": {
      "image/png": "[encoded data removed]",
      "text/plain": [
       "<Figure size 720x360 with 10 Axes>"
      ]
     },
     "metadata": {},
     "output_type": "display_data"
    }
   ],
   "source": [
    "# Plot some of the images\n",
    "plt.figure(figsize=(10, 5))\n",
    "for i in range(10):\n",
    "    fig = plt.subplot(1, 10, i + 1)\n",
    "    xi=x[:,i]\n",
    "    fig.imshow(xi.reshape(28, 28), interpolation='nearest',cmap='gray')\n",
    "    fig.set_xticks(())\n",
    "    fig.set_yticks(())\n",
    "    fig.set_xlabel('Class %i' % y[0,i])"
   ]
  },
  {
   "cell_type": "code",
   "execution_count": 5,
   "metadata": {},
   "outputs": [],
   "source": [
    "# Randomly sample the training/testing set\n",
    "num_all=y.shape[1] # 70000\n",
    "num_train = 60000\n",
    "num_test=num_all-num_train\n",
    "\n",
    "inds_train = np.random.permutation(y.shape[1])[:num_train] # sample indices\n",
    "x_train_ori = x[:,inds_train]\n",
    "y_train = y[:,inds_train]\n",
    "\n",
    "inds_test = list(set(range(num_all))-set(inds_train))\n",
    "x_test_ori = x[:,inds_test]\n",
    "y_test = y[:,inds_test]"
   ]
  },
  {
   "cell_type": "code",
   "execution_count": 6,
   "metadata": {},
   "outputs": [],
   "source": [
    "# Extract patches\n",
    "\n",
    "# settings\n",
    "num_patches_per_image=8\n",
    "patch_length=6\n",
    "# patches.shape=[patch_length*patch_length, num_train * num_patches_per_image]\n",
    "\n",
    "# extract patches from training images\n",
    "patch_max_idx=image_length-patch_length+1\n",
    "num_patches=num_patches_per_image*num_train\n",
    "patch_size=patch_length*patch_length\n",
    "patches=np.zeros((patch_size, num_patches))\n",
    "cnt=0\n",
    "for i in range(num_train):\n",
    "    xi=x_train_ori[:,i].reshape(28, 28)\n",
    "    x0y0_rand=np.random.randint(patch_max_idx, size=(2, num_patches_per_image))\n",
    "    for j in range(num_patches_per_image):\n",
    "        x0=x0y0_rand[0, j]\n",
    "        y0=x0y0_rand[1, j]\n",
    "        patch_ij=xi[x0:x0+patch_length, y0:y0+patch_length]\n",
    "        patches[:,cnt:cnt+1]=patch_ij.reshape((-1,1))\n",
    "        cnt+=1\n",
    "\n",
    "# Standardize patches\n",
    "# NO! Since digits are black and white, no need to do this. Besides, there is a PCA afterward to scale the data.\n",
    "IF_STANDARDIZE_PATCHES=False\n",
    "def standardize_patches(x):\n",
    "    x_means = np.mean(x,axis = 1)[:,np.newaxis]\n",
    "    x_stds = np.std(x,axis = 1)[:,np.newaxis] \n",
    "    x_stds[x_stds==0]=1\n",
    "    return (x - x_means)/x_stds\n",
    "def standardize_one_patch(x):\n",
    "    std=np.std(x)\n",
    "    std=std if abs(std)>=1e-8 else 1\n",
    "    return (x - np.mean(x))/std\n",
    "if IF_STANDARDIZE_PATCHES:\n",
    "    patches=standardize_patches(patches)"
   ]
  },
  {
   "cell_type": "code",
   "execution_count": 7,
   "metadata": {},
   "outputs": [
    {
     "data": {
      "image/png": "[encoded data removed]",
      "text/plain": [
       "<Figure size 360x360 with 5 Axes>"
      ]
     },
     "metadata": {},
     "output_type": "display_data"
    }
   ],
   "source": [
    "# Plot some patches\n",
    "plt.figure(figsize=(5, 5))\n",
    "for i in range(5):\n",
    "    fig = plt.subplot(1, 5, i + 1)\n",
    "    fig.imshow(patches[:,i].reshape(patch_length,patch_length), interpolation='nearest',cmap='gray')\n",
    "    fig.set_xticks(())\n",
    "    fig.set_yticks(())"
   ]
  },
  {
   "cell_type": "code",
   "execution_count": 8,
   "metadata": {},
   "outputs": [],
   "source": [
    "# Call k-means\n",
    "num_centers=100\n",
    "kmeans = MiniBatchKMeans(num_centers).fit(patches.T)\n",
    "patch_centers=kmeans.cluster_centers_.T\n",
    "# shape=(patch_size, n_clusters)=(64, 100)"
   ]
  },
  {
   "cell_type": "code",
   "execution_count": 9,
   "metadata": {
    "scrolled": true
   },
   "outputs": [
    {
     "data": {
      "image/png": "[encoded data removed]",
      "text/plain": [
       "<Figure size 720x144 with 20 Axes>"
      ]
     },
     "metadata": {},
     "output_type": "display_data"
    }
   ],
   "source": [
    "# Plot k-means centers\n",
    "plt.figure(figsize=(10, 2))\n",
    "for i in range(20):\n",
    "    fig = plt.subplot(2, 10, i + 1)\n",
    "    fig.imshow(patch_centers[:,i].reshape(patch_length,patch_length), interpolation='nearest',cmap='gray')\n",
    "    fig.set_xticks(())\n",
    "    fig.set_yticks(())"
   ]
  },
  {
   "cell_type": "code",
   "execution_count": 10,
   "metadata": {
    "scrolled": false
   },
   "outputs": [],
   "source": [
    "# Extract k-means features: (28x28 image) --> (4 x num_centers)\n",
    "features_length=num_centers*4\n",
    "stride_size=2\n",
    "\n",
    "def im2col_sliding_broadcasting(A, BSZ, stepsize=1):\n",
    "    # This is copied from: https://stackoverflow.com/questions/30109068/implement-matlabs-im2col-sliding-in-python\n",
    "    #     and then I added the vertical stepsize\n",
    "    # This functions is the same as im2col in Matlab\n",
    "    M,N = A.shape\n",
    "    col_extent = N - BSZ[1] + 1\n",
    "    row_extent = M - BSZ[0] + 1\n",
    "    start_idx = np.arange(BSZ[0])[:,None]*N + np.arange(BSZ[1]) # Get Starting block indices\n",
    "    offset_idx = np.arange(row_extent)[:,None]*N + np.arange(col_extent) # Get offsetted indices across the height and width of input array    \n",
    "    offset_idx = offset_idx[np.arange(0, offset_idx.shape[0], stepsize),:]\n",
    "    offset_idx = offset_idx[:,np.arange(0, offset_idx.shape[1], stepsize)]\n",
    "    return np.take (A,start_idx.ravel()[:,None] + offset_idx.ravel()[::1]) # Get all actual indices & index into input array for final output\n",
    "        \n",
    "def extract_features_one_sample(xi):\n",
    "    xi=xi.reshape(28,28)\n",
    "    # image: 28x28. Patch:8x8. Image divides to 4 subregions: [0~11) and [12~21)\n",
    "    \n",
    "    METHOD_VERSION_1=False\n",
    "    if METHOD_VERSION_1:\n",
    "        mat_patch_dis_to_center=np.zeros((num_centers,patch_max_idx,patch_max_idx))\n",
    "        for i in range(patch_max_idx):\n",
    "            for j in range(patch_max_idx):\n",
    "                patchij=xi[i:i+patch_length, j:j+patch_length].reshape((-1,1))\n",
    "                if IF_STANDARDIZE_PATCHES:\n",
    "                    patchij=standardize_one_patch(patchij)\n",
    "                dis_to_center=np.sqrt(np.sum((patchij-patch_centers)**2,axis=0)) #shape=(1, num_centers)\n",
    "                mat_patch_dis_to_center[:,i,j]=dis_to_center\n",
    "                # Further process\n",
    "                # ...\n",
    "    else:\n",
    "        patches_in_xi = im2col_sliding_broadcasting(xi, (patch_length, patch_length), stepsize=stride_size) # 64x(21*21)/stepsize^2\n",
    "        m1 = patches_in_xi[:,:,np.newaxis]\n",
    "        m2 = patch_centers[:,np.newaxis,:]\n",
    "        c=np.linalg.norm(m1-m2,axis=0).T # This is already the distances to centers\n",
    "        # Further process\n",
    "        c=np.mean(c,axis=0)-c \n",
    "        c[c<0]=0 # make it sparse. A larger element means its closer to the centroid\n",
    "        new_length=np.sqrt(patches_in_xi.shape[1])\n",
    "        new_length=int(new_length)\n",
    "        mat_patch_dis_to_center=c.reshape(num_centers, new_length, new_length)\n",
    "            \n",
    "    mid=int((new_length+1)/2)\n",
    "    def sum_sub(r1,r2,c1,c2):\n",
    "        return np.sum(np.sum(\n",
    "            mat_patch_dis_to_center[:,r1:r2,c1:c2],\n",
    "            axis=1),axis=1)    \n",
    "    features=np.concatenate((sum_sub(0,mid,0,mid),\n",
    "                             sum_sub(0,mid,mid,new_length),\n",
    "                             sum_sub(mid,new_length,0,mid),\n",
    "                             sum_sub(mid,new_length,mid,new_length)\n",
    "                            ), axis=0)\n",
    "    return features\n",
    "\n",
    "# Extract features for all data\n",
    "def extract_features(x0):\n",
    "    n=x0.shape[1]\n",
    "    print(\"Start extracting features. Total training samples = {}:\".format(n))\n",
    "    x=np.zeros((features_length, n))\n",
    "    for i in range(n):\n",
    "        x[:,i]=extract_features_one_sample(x0[:,i])\n",
    "        if i%200==0:\n",
    "            print(\"{},\".format(i),end='')\n",
    "            if i>0 and i%2000==0:\n",
    "                print(\" \")\n",
    "    return x"
   ]
  },
  {
   "cell_type": "code",
   "execution_count": 11,
   "metadata": {
    "scrolled": true
   },
   "outputs": [
    {
     "name": "stdout",
     "output_type": "stream",
     "text": [
      "Start extracting features. Total training samples = 60000:\n",
      "0,200,400,600,800,1000,1200,1400,1600,1800,2000, \n",
      "2200,2400,2600,2800,3000,3200,3400,3600,3800,4000, \n",
      "4200,4400,4600,4800,5000,5200,5400,5600,5800,6000, \n",
      "6200,6400,6600,6800,7000,7200,7400,7600,7800,8000, \n",
      "8200,8400,8600,8800,9000,9200,9400,9600,9800,10000, \n",
      "10200,10400,10600,10800,11000,11200,11400,11600,11800,12000, \n",
      "12200,12400,12600,12800,13000,13200,13400,13600,13800,14000, \n",
      "14200,14400,14600,14800,15000,15200,15400,15600,15800,16000, \n",
      "16200,16400,16600,16800,17000,17200,17400,17600,17800,18000, \n",
      "18200,18400,18600,18800,19000,19200,19400,19600,19800,20000, \n",
      "20200,20400,20600,20800,21000,21200,21400,21600,21800,22000, \n",
      "22200,22400,22600,22800,23000,23200,23400,23600,23800,24000, \n",
      "24200,24400,24600,24800,25000,25200,25400,25600,25800,26000, \n",
      "26200,26400,26600,26800,27000,27200,27400,27600,27800,28000, \n",
      "28200,28400,28600,28800,29000,29200,29400,29600,29800,30000, \n",
      "30200,30400,30600,30800,31000,31200,31400,31600,31800,32000, \n",
      "32200,32400,32600,32800,33000,33200,33400,33600,33800,34000, \n",
      "34200,34400,34600,34800,35000,35200,35400,35600,35800,36000, \n",
      "36200,36400,36600,36800,37000,37200,37400,37600,37800,38000, \n",
      "38200,38400,38600,38800,39000,39200,39400,39600,39800,40000, \n",
      "40200,40400,40600,40800,41000,41200,41400,41600,41800,42000, \n",
      "42200,42400,42600,42800,43000,43200,43400,43600,43800,44000, \n",
      "44200,44400,44600,44800,45000,45200,45400,45600,45800,46000, \n",
      "46200,46400,46600,46800,47000,47200,47400,47600,47800,48000, \n",
      "48200,48400,48600,48800,49000,49200,49400,49600,49800,50000, \n",
      "50200,50400,50600,50800,51000,51200,51400,51600,51800,52000, \n",
      "52200,52400,52600,52800,53000,53200,53400,53600,53800,54000, \n",
      "54200,54400,54600,54800,55000,55200,55400,55600,55800,56000, \n",
      "56200,56400,56600,56800,57000,57200,57400,57600,57800,58000, \n",
      "58200,58400,58600,58800,59000,59200,59400,59600,59800,Start extracting features. Total training samples = 10000:\n",
      "0,200,400,600,800,1000,1200,1400,1600,1800,2000, \n",
      "2200,2400,2600,2800,3000,3200,3400,3600,3800,4000, \n",
      "4200,4400,4600,4800,5000,5200,5400,5600,5800,6000, \n",
      "6200,6400,6600,6800,7000,7200,7400,7600,7800,8000, \n",
      "8200,8400,8600,8800,9000,9200,9400,9600,9800,"
     ]
    }
   ],
   "source": [
    "x_train=extract_features(x_train_ori)\n",
    "x_test=extract_features(x_test_ori)"
   ]
  },
  {
   "cell_type": "code",
   "execution_count": 12,
   "metadata": {},
   "outputs": [],
   "source": [
    "# Functions for the network\n",
    "\n",
    "# Fully connected layer\n",
    "def layer_fc(x,w):\n",
    "    # N dim, P samples, C classes\n",
    "    # x.shape = (N, P)\n",
    "    # w.shape = (N+1, C)\n",
    "    # w[1:].shape = (N, C)\n",
    "    a = w[0] + np.dot(x.T,w[1:])\n",
    "    a = a.T\n",
    "    # a.shape = (C, P)\n",
    "    # a[i][j]: the score of the jth (0~P) sample to be classified as ith (0~C) class\n",
    "    return a\n",
    "\n",
    "def cost_function_of_multiclass_perceptron(w, x, y, batch_indices=None):    \n",
    "    \n",
    "    # get subset of samples\n",
    "    if batch_indices is not None:\n",
    "        x = x[:,batch_indices] # (N, p)\n",
    "        y = y[:,batch_indices] # (1, p)\n",
    "    P=x.shape[1]\n",
    "    \n",
    "    # pre-compute predictions on all samples\n",
    "    all_evals = layer_fc(x,w) # shape = (C, P)\n",
    "    \n",
    "    # compute maximum across data points\n",
    "    a =  np.max(all_evals,axis = 0)    \n",
    "    # a.shape = (1, P), which is the highest score of each sample\n",
    "\n",
    "    # compute cost in compact form using numpy broadcasting\n",
    "    # all_evals[i,j]: score of the jth sample to be classified as class i\n",
    "    i=y.astype(int).flatten() # i: the index of the correct label for each sample\n",
    "    j=np.arange(P) # j: the index of each sample\n",
    "    # [i,j]: extract each sample's correct class\n",
    "    # all_evals[i,j]: extract the score of each sample's correct class\n",
    "    b = all_evals[i,j]\n",
    "\n",
    "    # compute cost\n",
    "    cost = np.sum(a - b)\n",
    "    # for the ith sample, if we predict it correctly,\n",
    "    #    then a[i]==b[i]\n",
    "    # Otherwise, a-b>0, which produces a cost\n",
    "\n",
    "    # return average\n",
    "    return cost/float(np.size(y))\n",
    "\n",
    "\n",
    "def cost_function_of_multiclass_softmax(w, x, y, batch_indices=None):    \n",
    "    # Warning: This might cause a overflow. I don't use this.\n",
    "    \n",
    "    # get subset of samples\n",
    "    if batch_indices is not None:\n",
    "        x = x[:,batch_indices] # (N, p)\n",
    "        y = y[:,batch_indices] # (1, p)\n",
    "    \n",
    "    # pre-compute predictions on all points\n",
    "    all_evals = layer_fc(x,w)\n",
    "    \n",
    "    # softmax sum of scores over all labels\n",
    "    a = np.log(np.sum(np.exp(all_evals),axis = 0)) \n",
    "    # explanation: let's say there are 3 classes. Each's score is: 1, 100, 2\n",
    "    # a = log(e^1 + e^100 + e^2) \n",
    "        \n",
    "    # the score of the correct label\n",
    "    b = all_evals[y.astype(int).flatten(),np.arange(np.size(y))]\n",
    "    # explanation: If all_evals=[[1,2,3],[4,5,6]], y=[0, 1, 0],\n",
    "    # then b=[1,5,3]\n",
    "    \n",
    "    # cost function\n",
    "    cost = np.sum(a - b)\n",
    "    # if b is very large, then the weight of b in the total sum is very large,\n",
    "    #     and cost=(a-b) is very small. then we know we are making a good prediction.\n",
    "    \n",
    "    # return average\n",
    "    return cost/float(np.size(y))\n",
    "\n",
    "cost_function=cost_function_of_multiclass_perceptron"
   ]
  },
  {
   "cell_type": "code",
   "execution_count": 13,
   "metadata": {},
   "outputs": [],
   "source": [
    "# Minibatch gradient descent + Diminishing step length + Momentum\n",
    "def gradient_descent(g, alpha, max_epochs, w, num_train, batch_size,\n",
    "                        step_length_idx_start_diminish=99999, mom_b=0.8, print_interval=-1):\n",
    "    # Input:\n",
    "    #   g: MUST HAVE 2 ARGUMENTS!!! g(w, batch_indices)\n",
    "    #       Besides, inside g, it should use the global vars of sample_x and sample_y\n",
    "    # Output:\n",
    "    #   w_hist: history of weight \n",
    "    #   train_hist: history of cost on training set\n",
    "    \n",
    "    # flatten the input function\n",
    "    g_flat, unflatten, w = flatten_func(g, w)\n",
    "    \n",
    "    # calc gradient\n",
    "    grad = value_and_grad(g_flat)\n",
    "\n",
    "    # list for storing history\n",
    "    w_hist = [unflatten(w)]\n",
    "    train_hist = [g_flat(w,np.arange(num_train))]\n",
    "   \n",
    "    # num_batches * batch_size == number of samples\n",
    "    num_batches = int(np.ceil(np.divide(num_train, batch_size)))\n",
    "    \n",
    "    # Momentum: h=b*h+(1-b)*dw\n",
    "    mom_h=np.zeros(w.shape)\n",
    "    \n",
    "    # Iterate epochs\n",
    "    for k in range(max_epochs):      \n",
    "             \n",
    "        # print current Epoch\n",
    "        if print_interval>0:\n",
    "            if k % print_interval==0:\n",
    "                print(\"Epoch %d, \" % k, end='')\n",
    "            if (k+1) % (10*print_interval)==0:\n",
    "                print(\"\")\n",
    "        \n",
    "        # loop over each minibatch\n",
    "        for b in range(num_batches):\n",
    "            # collect indices of current mini-batch\n",
    "            batch_inds = np.arange(b*batch_size, min((b+1)*batch_size, num_train))\n",
    "            \n",
    "            # plug in value into func and derivative\n",
    "            cost_eval,grad_eval = grad(w, batch_inds)\n",
    "            grad_eval.shape = np.shape(w)\n",
    "    \n",
    "            # take a descent step\n",
    "            dw = -alpha/max(k-step_length_idx_start_diminish,1)*grad_eval\n",
    "            mom_h=mom_b*mom_h+(1-mom_b)*dw # momentum\n",
    "            w = w + mom_h\n",
    "        \n",
    "        # update training and validation cost\n",
    "        train_cost = g_flat(w, np.arange(num_train))\n",
    "        # record weight update, train and val costs\n",
    "        w_hist.append(unflatten(w))\n",
    "        train_hist.append(train_cost)\n",
    "\n",
    "    return w_hist,train_hist"
   ]
  },
  {
   "cell_type": "code",
   "execution_count": 14,
   "metadata": {},
   "outputs": [],
   "source": [
    "# Data pre-processing\n",
    "\n",
    "# def standard_normalizer(x):\n",
    "#     x_means = np.mean(x,axis = 1)[:,np.newaxis]\n",
    "#     x_stds = np.std(x,axis = 1)[:,np.newaxis]       \n",
    "#     x_stds[x_stds==0]=1 # Add this to avoid deviding 0 !!!!\n",
    "#     normalizer = lambda data: (data - x_means)/x_stds # create standard normalizer function\n",
    "#     inverse_normalizer = lambda data: data*x_stds + x_means # create inverse standard normalizer\n",
    "#     return normalizer,inverse_normalizer\n",
    "\n",
    "def PCA(x, lam = 10**(-6)):\n",
    "    # x:  shape = (N, P). Each row is a feature. Each column is a sample. Already removed mean.    \n",
    "    Cov = 1.0/x.shape[1]*np.dot(x,x.T) + lam*np.eye(x.shape[0])\n",
    "    d,W = np.linalg.eigh(Cov) # eigenvalues / vectors of correlation matrix\n",
    "    return d,W\n",
    "    # A chinese tutorial: https://www.zhihu.com/question/39234760\n",
    "\n",
    "global W, x_means, x_stds\n",
    "# PCA-sphereing - use PCA to normalize input features\n",
    "def ZCA_whitening(x, num_new_features=-1):\n",
    "    global W, x_means, x_stds\n",
    "    x_means = np.mean(x,axis = 1)[:,np.newaxis]\n",
    "    x_centered = x - x_means\n",
    "    USE_SVD=False\n",
    "    if USE_SVD: # This generates a memory error\n",
    "        u, s, vh = np.linalg.svd(x_centered, full_matrices=True) \n",
    "        W=u\n",
    "        x_stds=s\n",
    "    else:\n",
    "        d,W = PCA(x_centered)\n",
    "        x_stds = np.std( np.dot(W.T,x_centered) ,axis = 1)[:,np.newaxis]\n",
    "        x_stds[x_stds==0]=1\n",
    "    if num_new_features>0:\n",
    "        W=W[:,-num_new_features:]\n",
    "        x_stds=x_stds[-num_new_features:,0:1]\n",
    "    normalizer = lambda data: np.dot(W.T,data - x_means)/x_stds\n",
    "    inverse_normalizer = lambda data: np.dot(W,data*x_stds) + x_means\n",
    "    return normalizer,inverse_normalizer"
   ]
  },
  {
   "cell_type": "code",
   "execution_count": 15,
   "metadata": {},
   "outputs": [],
   "source": [
    "# ZCA, normalize features\n",
    "num_reduced_features=100 # Use part of the coordinates that have the largest eigen values\n",
    "                    # Set to -1 to use all features\n",
    "normalizer, inverse_normalizer=ZCA_whitening(x_train, num_reduced_features)\n",
    "x_train_norm = normalizer(x_train)"
   ]
  },
  {
   "cell_type": "code",
   "execution_count": 34,
   "metadata": {
    "scrolled": true
   },
   "outputs": [
    {
     "name": "stdout",
     "output_type": "stream",
     "text": [
      "Epoch 0, Epoch 5, Epoch 10, Epoch 15, \n",
      "Optimization finishes.\n"
     ]
    }
   ],
   "source": [
    "# Start training\n",
    "import warnings\n",
    "warnings.filterwarnings(\"error\")\n",
    "\n",
    "# set para\n",
    "N = x_train_norm.shape[0]  # number of features\n",
    "C = len(np.unique(y_train)) # 10 classes\n",
    "w0 = 0.001*np.random.randn(N + 1, C) # 785*10, weights\n",
    "batch_size = 1000\n",
    "num_epochs = 20\n",
    "\n",
    "step_length = 1e-2\n",
    "step_length_idx_start_diminish=1\n",
    "\n",
    "def g(w, batch_indices):\n",
    "    return cost_function(w, x_train_norm, y_train, batch_indices)+0.0*(w**2).sum()\n",
    "\n",
    "w_hist, cost_hist = gradient_descent(\\\n",
    "    g, step_length, num_epochs, w0, num_train, batch_size,\n",
    "    step_length_idx_start_diminish, mom_b=0, print_interval=5) # mom_b: 0 for no history consideration. \n",
    "print(\"\\nOptimization finishes.\")\n",
    "final_weight=w_hist[-1]"
   ]
  },
  {
   "cell_type": "code",
   "execution_count": 35,
   "metadata": {},
   "outputs": [],
   "source": [
    "# function: predict labels\n",
    "def predict(x, w, y):\n",
    "    all_evals = layer_fc(x, w)\n",
    "    y_predict = np.argmax(all_evals, axis=0)\n",
    "    accuracy = np.sum(y_predict==y) / y.shape[1]\n",
    "    return (y_predict, accuracy)\n",
    "\n",
    "x_test_zca = normalizer(x_test)\n",
    "accu_hist_train=[]\n",
    "accu_hist_test=[]\n",
    "for i, w in enumerate(w_hist):\n",
    "    (y_predict, accuracy) = predict(x_test_zca, w, y_test)\n",
    "    accu_hist_test.append(accuracy)    \n",
    "    (y_predict, accuracy) = predict(x_train_norm, w, y_train)\n",
    "    accu_hist_train.append(accuracy)    "
   ]
  },
  {
   "cell_type": "code",
   "execution_count": 36,
   "metadata": {
    "scrolled": true
   },
   "outputs": [
    {
     "name": "stdout",
     "output_type": "stream",
     "text": [
      "Number of epochs = 20, Method = ZCA whitening, steplen=0.01\n",
      "\n",
      "Accuracy: Training set = 98.27 %, Testing set = 97.20 %\n"
     ]
    },
    {
     "data": {
      "image/png": "[encoded data removed]",
      "text/plain": [
       "<Figure size 1008x288 with 3 Axes>"
      ]
     },
     "metadata": {
      "needs_background": "light"
     },
     "output_type": "display_data"
    }
   ],
   "source": [
    "# Print result\n",
    "print(\"Number of epochs = {}, Method = ZCA whitening, steplen={}\".format(num_epochs, step_length))\n",
    "print(\"\\nAccuracy: Training set = {:.2f} %, Testing set = {:.2f} %\".format(\n",
    "    accu_hist_train[-1]*100,accu_hist_test[-1]*100))\n",
    "\n",
    "xlabel=\"Epoches\"\n",
    "xdata=range(num_epochs+1)\n",
    "fig=plt.figure(figsize=(14, 4))\n",
    "\n",
    "# Cost function\n",
    "plt.subplot(131)\n",
    "plt.plot(xdata, cost_hist)\n",
    "plt.xlabel(xlabel)\n",
    "plt.yscale(\"log\")\n",
    "plt.title(\"Cost function\")\n",
    "\n",
    "# Accuracy on Training set\n",
    "plt.subplot(132)\n",
    "plt.plot(xdata, accu_hist_train)\n",
    "plt.xlabel(xlabel)\n",
    "plt.title(\"Accuracy on Training set\")\n",
    "plt.ylim((0.95,1))\n",
    "\n",
    "# Accuracy on Testing set\n",
    "plt.subplot(133)\n",
    "plt.plot(xdata, accu_hist_test)\n",
    "plt.xlabel(xlabel)\n",
    "plt.title(\"Accuracy on Testing set\")\n",
    "plt.ylim((0.95,1))\n",
    "\n",
    "\n",
    "plt.show()"
   ]
  },
  {
   "cell_type": "code",
   "execution_count": 37,
   "metadata": {
    "scrolled": true
   },
   "outputs": [
    {
     "data": {
      "image/png": "[encoded data removed]",
      "text/plain": [
       "<Figure size 720x360 with 10 Axes>"
      ]
     },
     "metadata": {},
     "output_type": "display_data"
    }
   ],
   "source": [
    "# Plot images and see if predictions are correct\n",
    "plt.figure(figsize=(10, 5))\n",
    "for i in range(10):\n",
    "    fig = plt.subplot(2, 5, i + 1)\n",
    "    idx=np.random.randint(num_test)\n",
    "    xi_ori=x_test_ori[:,idx:idx+1]\n",
    "    yi_real=y_test[0, idx]\n",
    "    xi=extract_features_one_sample(xi_ori)[:,np.newaxis]\n",
    "    xi_norm=normalizer(xi)\n",
    "    all_evals = layer_fc(xi_norm, final_weight)\n",
    "    yi_predict = np.argmax(all_evals, axis=0)\n",
    "    fig.imshow(xi_ori.reshape(28, 28), interpolation='nearest',cmap='gray')\n",
    "    fig.set_xticks(())\n",
    "    fig.set_yticks(())\n",
    "    fig.set_xlabel('Predict %d, Real %d' % (yi_predict,yi_real))"
   ]
  },
  {
   "cell_type": "markdown",
   "metadata": {},
   "source": [
    "## Training ends here.\n",
    "## Now I will output the necessary data for my C program."
   ]
  },
  {
   "cell_type": "code",
   "execution_count": 20,
   "metadata": {},
   "outputs": [],
   "source": [
    "idx_image=0;\n",
    "test_image_label=int(y_train[0, idx_image])\n",
    "test_image_array=x_train_ori[:,idx_image]\n",
    "num_labels=len(np.unique(y_train))"
   ]
  },
  {
   "cell_type": "code",
   "execution_count": 26,
   "metadata": {},
   "outputs": [],
   "source": [
    "# Write params to file, so later Cpp file could use them.\n",
    "def np2str(nparray):\n",
    "    return np.array2string(nparray, precision=8, separator=',',threshold=999999999,\n",
    "                      suppress_small=True).replace(\"[\",\"{\").replace(\"]\",\"}\")\n",
    "\n",
    "with open(\"digit_classifier_data.h\", \"w\") as fo:\n",
    "    \n",
    "    fo.write(\"// This file stores the weights trained in Python which are used for classifying digit.\\n\")\n",
    "    fo.write(\"//     A test image is also included.\\n\")\n",
    "    fo.write(\"// Notice: This file is automatically generated by Python script,\\n\")\n",
    "    fo.write(\"//     and should only be included by 'digit_classifier.cpp'.\\n\")\n",
    "    \n",
    "    fo.write(\"\\nconst int image_length={};\".format(image_length))\n",
    "    fo.write(\"\\nconst int patch_length={};\".format(patch_length))\n",
    "    fo.write(\"\\nconst int patch_size={};\".format(patch_length*patch_length))\n",
    "    fo.write(\"\\nconst int num_centers={};\".format(num_centers))\n",
    "    fo.write(\"\\nconst int stride_size={};\".format(stride_size))\n",
    "    fo.write(\"\\nconst int num_labels={};\".format(num_labels))\n",
    "    fo.write(\"\\nconst int num_reduced_features={};\".format(num_reduced_features))\n",
    "    \n",
    "    \n",
    "    fo.write(\"\\nconst unsigned char test_image_label={};\".format(test_image_label))\n",
    "    \n",
    "    fo.write(\"\\nunsigned char _test_image[image_length][image_length]=\")\n",
    "    fo.write(np2str(test_image_array.reshape(image_length, image_length)))\n",
    "    fo.write(\";\")\n",
    "    \n",
    "    # patch centers\n",
    "    \n",
    "    fo.write(\"\\n\\nconst double patch_centers[patch_size][num_centers]=\")\n",
    "    fo.write(np2str(patch_centers))\n",
    "    fo.write(\";\")\n",
    "    \n",
    "    # ZCA\n",
    "    \n",
    "    fo.write(\"\\n\\nconst double x_means[4*num_centers]=\")\n",
    "    fo.write(np2str(np.squeeze(x_means)))\n",
    "    fo.write(\";\")\n",
    "\n",
    "    fo.write(\"\\n\\nconst double x_stds[num_reduced_features]=\")\n",
    "    fo.write(np2str(np.squeeze(x_stds)))\n",
    "    fo.write(\";\")\n",
    "    \n",
    "    fo.write(\"\\n\\nconst double WT[num_reduced_features][4*num_centers]=\")\n",
    "    fo.write(np2str(W.T))\n",
    "    fo.write(\";\")\n",
    "    \n",
    "    # weights\n",
    "    \n",
    "    fo.write(\"\\n\\nconst double final_weight[1+num_reduced_features][num_labels]=\")\n",
    "    fo.write(np2str(final_weight))\n",
    "    fo.write(\";\")  \n",
    "    "
   ]
  },
  {
   "cell_type": "code",
   "execution_count": 22,
   "metadata": {},
   "outputs": [
    {
     "data": {
      "text/plain": [
       "[]"
      ]
     },
     "execution_count": 22,
     "metadata": {},
     "output_type": "execute_result"
    },
    {
     "data": {
      "image/png": "[encoded data removed]",
      "text/plain": [
       "<Figure size 720x360 with 1 Axes>"
      ]
     },
     "metadata": {
      "needs_background": "light"
     },
     "output_type": "display_data"
    }
   ],
   "source": [
    "# DEBUG: Plot test image\n",
    "fig=plt.figure(figsize=(10, 5))\n",
    "\n",
    "xi_ori=x_train_ori[:,idx_image:idx_image+1]\n",
    "yi_real=y_train[0, idx_image]\n",
    "xi=extract_features_one_sample(xi_ori)[:,np.newaxis]\n",
    "xi_norm=normalizer(xi)\n",
    "# print(\"Features after normalization: \", xi_norm[0:10])\n",
    "all_evals = layer_fc(xi_norm, final_weight)\n",
    "# print(\"Each label's score: \", all_evals.T)\n",
    "yi_predict = np.argmax(all_evals, axis=0)\n",
    "\n",
    "plt.imshow(xi_ori.reshape(28, 28), interpolation='nearest',cmap='gray')\n",
    "plt.plot()"
   ]
  }
 ],
 "metadata": {
  "kernelspec": {
   "display_name": "Python 3",
   "language": "python",
   "name": "python3"
  },
  "language_info": {
   "codemirror_mode": {
    "name": "ipython",
    "version": 3
   },
   "file_extension": ".py",
   "mimetype": "text/x-python",
   "name": "python",
   "nbconvert_exporter": "python",
   "pygments_lexer": "ipython3",
   "version": "3.7.0"
  }
 },
 "nbformat": 4,
 "nbformat_minor": 2
}
